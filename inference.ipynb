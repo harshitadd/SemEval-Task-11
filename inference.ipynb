{
  "cells": [
    {
      "cell_type": "code",
      "execution_count": null,
      "metadata": {
        "colab": {},
        "colab_type": "code",
        "id": "SnkXfWiJPN1f"
      },
      "outputs": [],
      "source": [
        "import pickle \n",
        "with open('/content/pred_maker_without_slicing (27).bin','rb') as file:\n",
        "  data = pickle.load(file)"
      ]
    },
    {
      "cell_type": "code",
      "execution_count": null,
      "metadata": {
        "colab": {},
        "colab_type": "code",
        "id": "5i7kq340QEO3"
      },
      "outputs": [],
      "source": [
        "article_ids=[]\n",
        "my_tokens=[]\n",
        "bert_tokens=[]\n",
        "labels=[]\n",
        "startc=[]\n",
        "\n",
        "for i in data:\n",
        "  article_ids.append(i[0])\n",
        "  i[1]=i[1].lower()\n",
        "  i[1]= i[1].split()\n",
        "  my_tokens.append(i[1])\n",
        "  bert_tokens.append(i[2])\n",
        "  labels.append(i[3])\n",
        "  startc.append(i[4])"
      ]
    },
    {
      "cell_type": "code",
      "execution_count": null,
      "metadata": {
        "colab": {
          "base_uri": "https://localhost:8080/",
          "height": 54
        },
        "colab_type": "code",
        "id": "QTH8kexijjWU",
        "outputId": "a09b512d-e106-4333-94e9-3befc6fc3714"
      },
      "outputs": [
        {
          "name": "stdout",
          "output_type": "stream",
          "text": [
            "[787085939, ['dallas', 'police', 'attempt', 'to', '‘smear’', 'botham', 'jean', 'over', 'tiny', 'bit', 'of', 'weed', 'and', 'they', 'failed,', 'miserably', 'dallas,', 'tx', '—', 'the', 'dallas', 'police', 'on', 'thursday', 'announced', 'the', 'findings', 'of', 'a', 'search', 'warrant', 'they', 'executed', 'on', 'the', 'home', 'of', 'botham', 'jean', 'after', 'he', 'was', 'gunned', 'down', 'in', 'his', 'apartment', 'by', 'one', 'of', 'their', 'own.'], ['dallas', 'police', 'attempt', 'to', '‘', 'sm', '##ear', '’', 'both', '##am', 'jean', 'over', 'tiny', 'bit', 'of', 'weed', 'and', 'they', 'failed', ',', 'mis', '##era', '##bly', 'dallas', ',', 'tx', '—', 'the', 'dallas', 'police', 'on', 'thursday', 'announced', 'the', 'findings', 'of', 'a', 'search', 'warrant', 'they', 'executed', 'on', 'the', 'home', 'of', 'both', '##am', 'jean', 'after', 'he', 'was', 'gunn', '##ed', 'down', 'in', 'his', 'apartment', 'by', 'one', 'of', 'their', 'own', '.'], [['o', 'o', 'o', 'o', 'o', 'X', 'X', 'X', 'o', 'X', 'p', 'p', 'p', 'p', 'p', 'p', 'o', 'o', 'o', 'X', 'o', 'X', 'X', 'o', 'X', 'o', 'o', 'o', 'o', 'o', 'o', 'o', 'o', 'o', 'o', 'o', 'o', 'o', 'o', 'o', 'o', 'o', 'o', 'o', 'o', 'o', 'X', 'o', 'o', 'o', 'o', 'o', 'X', 'o', 'o', 'o', 'o', 'o', 'o', 'o', 'o', 'o', 'X']], 0]\n"
          ]
        }
      ],
      "source": [
        "print(data[0])"
      ]
    },
    {
      "cell_type": "code",
      "execution_count": null,
      "metadata": {
        "colab": {
          "base_uri": "https://localhost:8080/",
          "height": 89
        },
        "colab_type": "code",
        "id": "sgbNYnLN3jIO",
        "outputId": "a523111d-21e8-43cb-ecc4-85925cf03b87"
      },
      "outputs": [],
      "source": [
        "print(my_tokens[0])\n",
        "print(bert_tokens[0])\n",
        "print(labels[0][0])"
      ]
    },
    {
      "cell_type": "code",
      "execution_count": null,
      "metadata": {
        "colab": {
          "base_uri": "https://localhost:8080/",
          "height": 54
        },
        "colab_type": "code",
        "id": "HZnS2cvzjjWv",
        "outputId": "1931554c-759c-4f57-fbde-e58d57febeb6"
      },
      "outputs": [],
      "source": [
        "print(article_ids)"
      ]
    },
    {
      "cell_type": "code",
      "execution_count": null,
      "metadata": {
        "colab": {},
        "colab_type": "code",
        "id": "UzamcjqHjjW5"
      },
      "outputs": [],
      "source": [
        "startc_len = []\n",
        "len_count = 0\n",
        "startc_len.append(0)\n",
        "for i in range(1,len(article_ids)):\n",
        "    art_id = article_ids[i-1]\n",
        "    if art_id != article_ids[i]:\n",
        "        len_count = 0\n",
        "    else:\n",
        "        len_count = len_count + len(\" \".join(my_tokens[i-1]))\n",
        "    startc_len.append(len_count)"
      ]
    },
    {
      "cell_type": "code",
      "execution_count": null,
      "metadata": {
        "colab": {
          "base_uri": "https://localhost:8080/",
          "height": 54
        },
        "colab_type": "code",
        "id": "4FprsevpjjXC",
        "outputId": "3d277ad9-633c-40d6-c514-ff5a4a5b3d6c"
      },
      "outputs": [],
      "source": [
        "print(startc_len)"
      ]
    },
    {
      "cell_type": "code",
      "execution_count": null,
      "metadata": {
        "colab": {},
        "colab_type": "code",
        "id": "AT71LsTV471I"
      },
      "outputs": [],
      "source": [
        "final_result_sent = []\n",
        "final_result=[]\n",
        "for i in range(len(article_ids)):\n",
        "  art_id = article_ids[i]\n",
        "  bert_token = bert_tokens[i]\n",
        "  my_token = my_tokens[i]\n",
        "  label = labels[i][0]\n",
        "  c=0\n",
        "  c = startc[i]\n",
        "  sent = ''\n",
        "  final_result_sent=[]\n",
        "  for j in range(len(label)):\n",
        "    l = []\n",
        "    l.append(art_id)\n",
        "    l.append(c)\n",
        "    ################## NEWWWWWWWW ################\n",
        "    # if j<len(bert_token):\n",
        "    #     token = bert_token[j]\n",
        "    ###############################################\n",
        "    token = bert_token[j]\n",
        "    if(token.isalpha()):\n",
        "      sent += token\n",
        "      c+=len(token)\n",
        "      l.append(c)\n",
        "      l.append(label[j])\n",
        "    elif(token[0].isalpha()==0): #means is some punctuation or WPT\n",
        "        if(token[0]=='#'):\n",
        "          sent = sent[:-1]\n",
        "          sent += token[2:] \n",
        "          c+=len(token) - 2\n",
        "          l.append(c)\n",
        "          l.append(label[j])\n",
        "        else:\n",
        "          sent += token\n",
        "          c+=len(token)\n",
        "          l.append(c)\n",
        "          l.append(label[j])\n",
        "    sent += ' ' \n",
        "    c+=1  #to count the space\n",
        "    final_result_sent.append(l)\n",
        "  final_result.append(final_result_sent)  \n"
      ]
    },
    {
      "cell_type": "code",
      "execution_count": null,
      "metadata": {
        "colab": {
          "base_uri": "https://localhost:8080/",
          "height": 1000
        },
        "colab_type": "code",
        "id": "SWU-c8uBGjot",
        "outputId": "456df43f-3d92-4857-c35a-a984986db478"
      },
      "outputs": [],
      "source": [
        "for i in final_result:\n",
        "  print(i)"
      ]
    },
    {
      "cell_type": "code",
      "execution_count": null,
      "metadata": {
        "colab": {},
        "colab_type": "code",
        "id": "PHlvHx0C5BzR"
      },
      "outputs": [],
      "source": [
        "submission=[]\n",
        "for i in final_result:\n",
        "   l=[]\n",
        "   l.append(i[0][0])\n",
        "   for k in range(len(i)-1):\n",
        "      if(len(i[k])>2 and i[k][3]=='p'):\n",
        "    #   if(i[k][3]=='p'):\n",
        "        l.append(i[k][1])\n",
        "        l.append(i[k][2])\n",
        "      elif(len(i[k])>2 and i[k][3]=='X'):\n",
        "    #   elif(i[k][3]=='X'):\n",
        "        # if(i[k-1][3]=='p' and i[k+1][3]=='p'):\n",
        "        if(len(i[k-1])>2 and len(i[k+1]) > 2 and i[k-1][3]=='p' and i[k+1][3]=='p'):\n",
        "          l.append(i[k][1])\n",
        "          l.append(i[k][2])\n",
        "   submission.append(l)\n",
        " "
      ]
    },
    {
      "cell_type": "code",
      "execution_count": null,
      "metadata": {
        "colab": {
          "base_uri": "https://localhost:8080/",
          "height": 34
        },
        "colab_type": "code",
        "id": "5WeyflUv_8ae",
        "outputId": "3ba9bc70-f417-4cc3-e27b-fcdbc177973b"
      },
      "outputs": [
        {
          "name": "stdout",
          "output_type": "stream",
          "text": [
            "801\n"
          ]
        }
      ],
      "source": [
        "print(len(submission))"
      ]
    },
    {
      "cell_type": "code",
      "execution_count": null,
      "metadata": {
        "colab": {
          "base_uri": "https://localhost:8080/",
          "height": 1000
        },
        "colab_type": "code",
        "id": "Mxe7fL2hA5JX",
        "outputId": "e10a138a-54ce-4486-85f5-4f122c99e8b6"
      },
      "outputs": [],
      "source": [
        "for i in submission:\n",
        "  print(i)"
      ]
    },
    {
      "cell_type": "code",
      "execution_count": null,
      "metadata": {
        "colab": {},
        "colab_type": "code",
        "id": "1V1l0cfOCLOy"
      },
      "outputs": [],
      "source": [
        "final_submission=[]\n",
        "for i in submission:\n",
        "  if(len(i)>1): ##means prop\n",
        "    l=[]\n",
        "    l.append(i[0])\n",
        "    l.append(i[1])\n",
        "    l.append(i[-1])\n",
        "    final_submission.append(l)\n",
        "  "
      ]
    },
    {
      "cell_type": "code",
      "execution_count": null,
      "metadata": {
        "colab": {
          "base_uri": "https://localhost:8080/",
          "height": 34
        },
        "colab_type": "code",
        "id": "V7oE7KmXCgrt",
        "outputId": "21926629-2ca4-4cd9-987b-d0cd1c80116f"
      },
      "outputs": [
        {
          "name": "stdout",
          "output_type": "stream",
          "text": [
            "615\n"
          ]
        }
      ],
      "source": [
        "print(len(final_submission))"
      ]
    },
    {
      "cell_type": "code",
      "execution_count": null,
      "metadata": {
        "colab": {
          "base_uri": "https://localhost:8080/",
          "height": 1000
        },
        "colab_type": "code",
        "id": "-PZwm-CTDS8M",
        "outputId": "88d3b19b-4d64-4222-f660-e8304d2536c1"
      },
      "outputs": [],
      "source": [
        "for i in final_submission:\n",
        "  print(i)"
      ]
    },
    {
      "cell_type": "code",
      "execution_count": null,
      "metadata": {
        "colab": {},
        "colab_type": "code",
        "id": "cGpQQOELzO0a"
      },
      "outputs": [],
      "source": [
        "check_test_final = []\n",
        "for i in final_submission:\n",
        "  if i[2]>i[1]:\n",
        "    check_test_final.append(i)\n",
        "#   print(i)"
      ]
    },
    {
      "cell_type": "code",
      "execution_count": null,
      "metadata": {
        "colab": {
          "base_uri": "https://localhost:8080/",
          "height": 34
        },
        "colab_type": "code",
        "id": "ixD1SZdGzPQ4",
        "outputId": "54348f13-faa5-40a9-ad75-c23a9ed842ce"
      },
      "outputs": [
        {
          "data": {
            "text/plain": [
              "(615, 615)"
            ]
          },
          "execution_count": 165,
          "metadata": {
            "tags": []
          },
          "output_type": "execute_result"
        }
      ],
      "source": [
        "len(check_test_final),len(final_submission)"
      ]
    },
    {
      "cell_type": "code",
      "execution_count": null,
      "metadata": {
        "colab": {},
        "colab_type": "code",
        "id": "OofzKstFD1M1"
      },
      "outputs": [],
      "source": [
        "import csv\n",
        "\n",
        "with open('/content/Test_Submission_XL_Rob_BS_32_LR_1e5.txt', 'wt') as out_file:\n",
        "    tsv_writer = csv.writer(out_file, delimiter='\\t')\n",
        "    for i in final_submission:\n",
        "      tsv_writer.writerow([i[0],i[1],i[2]])"
      ]
    },
    {
      "cell_type": "code",
      "execution_count": null,
      "metadata": {
        "colab": {},
        "colab_type": "code",
        "id": "OPryXRc_FTaC"
      },
      "outputs": [],
      "source": [
        "import csv\n",
        "\n",
        "with open('/content/submission_ensemble_XL_Rob_sum_1_le_1e5_for_testing_bs_8.txt', 'wt') as out_file:\n",
        "    tsv_writer = csv.writer(out_file, delimiter='\\t')\n",
        "    for i in check_test_final:\n",
        "      tsv_writer.writerow([i[0],i[1],i[2]])"
      ]
    },
    {
      "cell_type": "code",
      "execution_count": null,
      "metadata": {
        "colab": {},
        "colab_type": "code",
        "id": "P3XRwI25jjYF"
      },
      "outputs": [],
      "source": []
    }
  ],
  "metadata": {
    "accelerator": "GPU",
    "colab": {
      "collapsed_sections": [],
      "name": "Making_pred (2).ipynb",
      "provenance": []
    },
    "kernelspec": {
      "display_name": "Python 3",
      "language": "python",
      "name": "python3"
    },
    "language_info": {
      "codemirror_mode": {
        "name": "ipython",
        "version": 3
      },
      "file_extension": ".py",
      "mimetype": "text/x-python",
      "name": "python",
      "nbconvert_exporter": "python",
      "pygments_lexer": "ipython3",
      "version": "3.6.5"
    }
  },
  "nbformat": 4,
  "nbformat_minor": 0
}
